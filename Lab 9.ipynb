{
 "cells": [
  {
   "cell_type": "markdown",
   "metadata": {},
   "source": [
    "# Lab 8 and 9"
   ]
  },
  {
   "cell_type": "markdown",
   "metadata": {},
   "source": [
    "**Lab 8**\n",
    "\n",
    "Running Spades: \n",
    "\n",
    "1. Why do we expect short reads to produce a more fragmented assembly than long reads? \n",
    "    Longer reads can \"resolve regions of the genome that are inaccessible to short reads due to repeat sequences\". Therefore, we are going to have less individual fragments because each read. \n",
    "    \n",
    "2. Why does a single-molecule sequencing like PacBio have a higher error rate than Illumina? \n",
    "Single molecule sequencing has more points of failure because each molecule is sequenced individually. Therefore the error rate is higher, but it should be more randomly distributed. \n",
    "\n",
    "*Spades Command Used*:\n",
    "\n",
    "spades.py -1 ../../../../data/Lab8_data/illumina_reads_R1.fastq -2 ../../../../data/Lab8_data/illumina_reads_R2.fastq --pacbio ../../../../data/Lab8_data/pacbio_reads.fastq -t 1 -o out/\n",
    "\n",
    "*Error Message*: Forgot to copy but related to memory\n",
    "\n"
   ]
  },
  {
   "cell_type": "markdown",
   "metadata": {},
   "source": [
    "**Lab 9** \n",
    "\n",
    "**Assembly Statistics**\n",
    "\n",
    "*Command:*\n",
    "assembly-stats ../../../../data/Lab9_data/contigs.fasta ../../../../data/Lab9_data/scaffolds.fasta\n",
    "\n",
    "*Output:*\n",
    "\n",
    "stats for ../../../../data/Lab9_data/**contigs.fasta**\n",
    "\n",
    "sum = 6680581, n = 180, ave = 37114.34, largest = 687571\n",
    "\n",
    "N50 = 234690, n = 10\n",
    "\n",
    "N60 = 202142, n = 13\n",
    "\n",
    "N70 = 154232, n = 17\n",
    "\n",
    "N80 = 103366, n = 22\n",
    "\n",
    "N90 = 81821, n = 29\n",
    "\n",
    "N100 = 128, n = 180\n",
    "\n",
    "N_count = 0\n",
    "\n",
    "Gaps = 0\n",
    "_____\n",
    "\n",
    "stats for ../../../../data/Lab9_data/**scaffolds.fasta**\n",
    "\n",
    "sum = 6680345, n = 176, ave = 37956.51, largest = 687571\n",
    "\n",
    "N50 = 234690, n = 10\n",
    "\n",
    "N60 = 202142, n = 13\n",
    "\n",
    "N70 = 154232, n = 17\n",
    "\n",
    "N80 = 103366, n = 22\n",
    "\n",
    "N90 = 83515, n = 29\n",
    "\n",
    "N100 = 129, n = 176\n",
    "\n",
    "N_count = 20\n",
    "\n",
    "Gaps = 2\n",
    "\n",
    "**Report the total length of all contigs (or scaffolds),  the number of contigs (or scaffolds), and the N50 in your iPython notebook.**\n",
    "1. Length of Contigs: 6680581\n",
    "2. Length of Scaffolds: 6680345\n",
    "3. Number of Contigs: 180\n",
    "4. Number of Scaffolds: 176\n",
    "5. N50 - Contigs: 234690\n",
    "6. N50 - Scaffolds: 234690\n",
    "\n",
    "**Why is N50 is useful statistic to calculate? Why not just list the mean or median contig length? In your assembly, are scaffolds longer than contigs, or are scaffolds approximately equal to contigs?**\n",
    "N50 gives us a better idea of the quality of our contigs. The higher the N50, the less sequences neccessary to represent half of the entire genome. This means that our reads must be of higher quality. The mean contig length is misrepresentative of contig quality due to many edge cases. For example, we could have a single contig that represents half our genome, but the mean would be dragged down by the hundreds of other contigs that are much much shorter. In this assembly, scaffolds are approximately equal to contigs in length. "
   ]
  },
  {
   "cell_type": "markdown",
   "metadata": {},
   "source": [
    "**Identify the taxon from which your genome originated**\n",
    "\n",
    "*Command*: rna_hmm3.py -i ../../../../data/Lab9_data/scaffolds.fasta -L ../../../../data/Lab9_data/HMM3 -o outfile.gff\n",
    "\n",
    "*Command*: bedtools getfasta -fi ../../../../data/Lab9_data/contigs.fasta -bed outfile.gff > sequences.fasta\n",
    "\n",
    "Uploaded sequences.fasta\n",
    "\n",
    "**You may not be able to obtain a “species”-level identification, but please write down your genus-level identification in  your iPython notebook along with an explanation for how you came to this conclusion.**\n",
    "At the genus level the indentification is Pseudomonas. I came to this conclusion by studying the hierarchy presented to me by the RDP database after searching for the six 16S sequences. These highly conserved sequences all belong to this same genus, although I presume they may belong to different species, which is why we're unable to identify an exact species\n"
   ]
  },
  {
   "cell_type": "markdown",
   "metadata": {},
   "source": [
    "**Research and write-up**\n",
    "\n",
    "*Based on its genome, is your bacterium auxotrophic for any amino acids? Are its closestrelatives also auxotrophic for these?*\n",
    "\n",
    "It appears that my bacterium may be auxotrophic for arginine based on the annotation results alone. I primarily did my analysis in RAST. To understand which amino acids this bacterium is unable to synthesize I selected ‘Amino Acids and Derivatives’ in the leftmost ‘Category’ column, and searched the word ‘biosynthesis’ in the third from the left ‘Subsystem’ column. For this write-up, I only really considered proteinogenic amino acids since I have little knowledge of non-photogenic amino acids. However, it seems that arginine is derived from non-protogenic ornithine, and the bacterium is autotrophic for both. This filtered the feature set resulting in a subset containing only those features which encode for amino acid synthesis. I found that subsystems for the synthesis of every essential amino acid other than arginine are encoded for the genome, but only subsystems for arginine degradation, not synthesis, are present. Comparing my results with literature, a 1995 study published in the Journal or Clinical Microbiology reports that mutants of Pseudomonas aeruginosa that are auxotrophic for arginine or ornithine are rather common, found in 8% of the auxotrophic samples that were analyzed, second to only methionine. Interestingly, half of all the samples collected were prototrophs, able to develop all the necessary amino acids themselves, which places our genome deep in the minority. A second study published by Environmental Microbiology in 2010 revealed that it is indeed possible for arginine autotrophs to exist in other species of the Pseudomonas genus, pointing out the genes (argA through argE) that regulate the production of arginine and their scattered locations in the genome. The same paper also cited a reference that demonstrated 2000 core genes that are conserved across the pseudomonas genus, which also include the genes that encode for arginine. Although I was unable to find a study that broke down % arginine autotrophs for other pseudomonas species, this seems to suggest that the numbers should be similar to those presented from Pseudomonas aeruginosa. \n",
    "\n",
    "References (informal) \n",
    "Barth & Pitt (1995) https://jcm.asm.org/content/33/1/37\n",
    "Molina-Henares et. al(2010) https://sfamjournals.onlinelibrary.wiley.com/doi/pdf/10.1111/j.1462-2920.2010.02166.x\n"
   ]
  },
  {
   "cell_type": "code",
   "execution_count": null,
   "metadata": {},
   "outputs": [],
   "source": []
  }
 ],
 "metadata": {
  "kernelspec": {
   "display_name": "Python 3",
   "language": "python",
   "name": "python3"
  },
  "language_info": {
   "codemirror_mode": {
    "name": "ipython",
    "version": 3
   },
   "file_extension": ".py",
   "mimetype": "text/x-python",
   "name": "python",
   "nbconvert_exporter": "python",
   "pygments_lexer": "ipython3",
   "version": "3.7.3"
  }
 },
 "nbformat": 4,
 "nbformat_minor": 2
}
