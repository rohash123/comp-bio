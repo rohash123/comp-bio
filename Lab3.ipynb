{
 "cells": [
  {
   "cell_type": "markdown",
   "metadata": {},
   "source": [
    "# Open File and Read Contents"
   ]
  },
  {
   "cell_type": "code",
   "execution_count": 3,
   "metadata": {},
   "outputs": [],
   "source": [
    "file = open(\"romeoandjuliet.txt\", \"r\")\n",
    "contents = file.read()"
   ]
  },
  {
   "cell_type": "markdown",
   "metadata": {},
   "source": [
    "# Generate Dictionary"
   ]
  },
  {
   "cell_type": "code",
   "execution_count": 4,
   "metadata": {},
   "outputs": [],
   "source": [
    "word_dict = {} \n",
    "word = '' \n",
    "i = 0 \n",
    "while i < len(contents): \n",
    "    if contents[i].isalpha() is False : \n",
    "        word = word.lower() \n",
    "        if word in word_dict.keys(): \n",
    "            word_dict[word] += 1 \n",
    "        else:  \n",
    "            word_dict[word] = 1  \n",
    "        i+=1 \n",
    "        word = '' \n",
    "    else:  \n",
    "        word += contents[i] \n",
    "        i+=1"
   ]
  },
  {
   "cell_type": "markdown",
   "metadata": {},
   "source": [
    "# Graphing"
   ]
  },
  {
   "cell_type": "code",
   "execution_count": 12,
   "metadata": {},
   "outputs": [
    {
     "data": {
      "image/png": "[encoded data removed]",
      "text/plain": [
       "<Figure size 432x288 with 1 Axes>"
      ]
     },
     "metadata": {
      "needs_background": "light"
     },
     "output_type": "display_data"
    }
   ],
   "source": [
    "%matplotlib inline\n",
    "import matplotlib.pyplot as plt\n",
    "plt.bar(range(len(word_dict)), list(word_dict.values()), align='center')\n",
    "plt.xticks(range(len(word_dict)), list(word_dict.keys()))\n",
    "plt.show()"
   ]
  },
  {
   "cell_type": "markdown",
   "metadata": {},
   "source": [
    "# Questions"
   ]
  },
  {
   "cell_type": "markdown",
   "metadata": {},
   "source": [
    "What are the ten most frequent words?\n",
    "'and', 'the', 'i', 'to', 'a', 'of', 'my', 'that', 'is', 'in'\n",
    "\n",
    "What about the least frequent?\n",
    "'punish','jointure','demand','statue','whiles','figure','sacrifices','glooming', 'punished','omnes'\n",
    "\n",
    "However, there arree a number of words with only one appearence in the text, so all the \"least frequent\" ones are tied with a number of others\n",
    "\n",
    "The most frequent words appear to be some of the most frequent words used in the english language, so this is appropriate. Likewise, the least frequent words are not uncommon, but they are not used regularly and are relevant to a particular context."
   ]
  },
  {
   "cell_type": "markdown",
   "metadata": {},
   "source": [
    "# Bonus (just sorting)"
   ]
  },
  {
   "cell_type": "code",
   "execution_count": null,
   "metadata": {},
   "outputs": [],
   "source": [
    "dict_sort = sorted(word_dict, key=word_dict.get, reverse=True)"
   ]
  }
 ],
 "metadata": {
  "kernelspec": {
   "display_name": "Python 3",
   "language": "python",
   "name": "python3"
  },
  "language_info": {
   "codemirror_mode": {
    "name": "ipython",
    "version": 3
   },
   "file_extension": ".py",
   "mimetype": "text/x-python",
   "name": "python",
   "nbconvert_exporter": "python",
   "pygments_lexer": "ipython3",
   "version": "3.6.0"
  }
 },
 "nbformat": 4,
 "nbformat_minor": 2
}
