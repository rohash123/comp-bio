{
 "cells": [
  {
   "cell_type": "markdown",
   "metadata": {},
   "source": [
    "# TERMINAL PART WITH QUESTIONS(*)"
   ]
  },
  {
   "cell_type": "markdown",
   "metadata": {},
   "source": [
    "*What will you use for the database? Input reads? \n",
    "\n",
    "I will use /data/references/hg19/hg19 for the database (Human Genome) and data/Lab6_data/mixed_reads1.fastq and data/Lab6_data/mixed_reads2.fastq  for the input reads. \n",
    "\n",
    "*If you use the --un unaligned.fastq option, what will unaligned.fastq contain? \n",
    "\n",
    "With this command unaligned.fastq contains the sequences that it was not able to align with the given Human genome (i.e filtered out sequences) . \n",
    "\n",
    "\n",
    "COMMAND 1: bowtie2 -p 4 --very-fast --no-unal -x /data/references/hg19/hg19  -1  /data/Lab6_data/mixed_reads1.fastq  -2 /data/Lab6_data/mixed_reads2.fastq -S output1.sam --un-conc unaligned.fastq\n",
    "OUTPUT HUMAN: \n",
    "\n",
    "1285441 reads; of these:\n",
    "  1285441 (100.00%) were paired; of these:\n",
    "    1285105 (99.97%) aligned concordantly 0 times\n",
    "    114 (0.01%) aligned concordantly exactly 1 time\n",
    "    222 (0.02%) aligned concordantly >1 times\n",
    "    ----\n",
    "    1285105 pairs aligned concordantly 0 times; of these:\n",
    "      227762 (17.72%) aligned discordantly 1 time\n",
    "    ----\n",
    "    1057343 pairs aligned 0 times concordantly or discordantly; of these:\n",
    "      2114686 mates make up the pairs; of these:\n",
    "        2062758 (97.54%) aligned 0 times\n",
    "        15162 (0.72%) aligned exactly 1 time\n",
    "        36766 (1.74%) aligned >1 times\n",
    "19.76% overall alignment rate\n",
    "\n",
    "*What percentage of your sequencing library came from contaminating human DNA?\n",
    "\n",
    "19.76% of the sequencing library came from contaminating human DNA. \n",
    "\n",
    "\n",
    "COMMAND 2: bowtie2 -p 4 --very-fast --no-unal -x /data/references/shewanella_oneidensis_mr-1/shewanella_oneidensis_mr-1  -1  unaligned.1.fastq  -2 unaligned.2.fastq -S output2.sam --un-conc some.fastq\n",
    "\n",
    "OUTPUT SHEWANELLA: \n",
    "1285105 reads; of these:\n",
    "  1285105 (100.00%) were paired; of these:\n",
    "    1049640 (81.68%) aligned concordantly 0 times\n",
    "    220987 (17.20%) aligned concordantly exactly 1 time\n",
    "    14478 (1.13%) aligned concordantly >1 times\n",
    "    ----\n",
    "    1049640 pairs aligned concordantly 0 times; of these:\n",
    "      288853 (27.52%) aligned discordantly 1 time\n",
    "    ----\n",
    "    760787 pairs aligned 0 times concordantly or discordantly; of these:\n",
    "      1521574 mates make up the pairs; of these:\n",
    "        1245335 (81.85%) aligned 0 times\n",
    "        221076 (14.53%) aligned exactly 1 time\n",
    "        55163 (3.63%) aligned >1 times\n",
    "51.55% overall alignment rate\n",
    "\n",
    "COMMAND 3: bowtie2 -p 4 --very-sensitive --no-unal -x /data/references/shewanella_oneidensis_mr-1/shewanella_oneidensis_mr-1  -1  unaligned.1.fastq  -2 unaligned.2.fastq -S output3.sam --un-conc some.fastq\n",
    "\n",
    "OUTPUT SHEWANELLA VERY SENSITIVE: \n",
    "1285105 reads; of these:\n",
    "  1285105 (100.00%) were paired; of these:\n",
    "    1048972 (81.63%) aligned concordantly 0 times\n",
    "    221437 (17.23%) aligned concordantly exactly 1 time\n",
    "    14696 (1.14%) aligned concordantly >1 times\n",
    "    ----\n",
    "    1048972 pairs aligned concordantly 0 times; of these:\n",
    "      291246 (27.76%) aligned discordantly 1 time\n",
    "    ----\n",
    "    757726 pairs aligned 0 times concordantly or discordantly; of these:\n",
    "      1515452 mates make up the pairs; of these:\n",
    "        1238527 (81.73%) aligned 0 times\n",
    "        220113 (14.52%) aligned exactly 1 time\n",
    "        56812 (3.75%) aligned >1 times\n",
    "51.81% overall alignment rate\n",
    "\n",
    "*If you use the --un unaligned.fastq option, what will unaligned.fastq contain?\n",
    "\n",
    "With this command unaligned.fastq contains the sequences that bowtie was not able to align with the given Shewanella genome. \n",
    "\n",
    "*What percentage of your filtered library didn’t align to the reference genome?*\n",
    "\n",
    "51.55%. This number goes up to 51.81% if we use the very sensitive option. \n",
    "\n",
    "*Convert SAM to BAM*\n",
    "\n",
    "COMMAND 3: samtools view -b output3.sam > output3.bam \n",
    "\n",
    "*Sort*\n",
    "\n",
    "COMMAND 4: samtools sort output3.bam > output3.sorted.bam\n",
    "\n",
    "*Index*\n",
    "\n",
    "COMMAND 5: samtools index output3.sorted.bam\n",
    "\n",
    "*Depth* \n",
    "\n",
    "COMMAND 6: samtools depth -a output2.sorted.bam > outputdepth.tab\n",
    "\n"
   ]
  },
  {
   "cell_type": "markdown",
   "metadata": {},
   "source": [
    "# PYTHON PART"
   ]
  },
  {
   "cell_type": "code",
   "execution_count": 67,
   "metadata": {},
   "outputs": [
    {
     "data": {
      "image/png": "[encoded data removed]",
      "text/plain": [
       "<Figure size 432x288 with 1 Axes>"
      ]
     },
     "metadata": {
      "needs_background": "light"
     },
     "output_type": "display_data"
    }
   ],
   "source": [
    "%matplotlib inline\n",
    "import matplotlib.pyplot as plt\n",
    "import numpy as np\n",
    "import pandas as pd\n",
    "\n",
    "x = []\n",
    "y = []\n",
    "\n",
    "table = pd.read_csv('outputdepth.tab', sep='\\t')\n",
    "alignment = pd.DataFrame(data=table)\n",
    "alignment.reset_index()\n",
    "x = alignment[alignment.columns[1]]\n",
    "y = alignment[alignment.columns[2]]\n",
    "\n",
    "plt.plot(x, y, 'ro')\n",
    "plt.xlabel('Position')\n",
    "plt.ylabel('Depth')\n",
    "plt.show()"
   ]
  },
  {
   "cell_type": "markdown",
   "metadata": {},
   "source": [
    "Above we have the graph of depth vs. coverage"
   ]
  },
  {
   "cell_type": "code",
   "execution_count": 5,
   "metadata": {},
   "outputs": [
    {
     "data": {
      "image/png": "[encoded data removed]",
      "text/plain": [
       "<Figure size 432x288 with 1 Axes>"
      ]
     },
     "metadata": {
      "needs_background": "light"
     },
     "output_type": "display_data"
    }
   ],
   "source": [
    "%matplotlib inline\n",
    "import matplotlib.pyplot as plt\n",
    "import numpy as np\n",
    "import pandas as pd\n",
    "x = []\n",
    "y = []\n",
    "\n",
    "table = pd.read_csv('outputdepth.tab', sep='\\t')\n",
    "alignment = pd.DataFrame(data=table)\n",
    "alignment.reset_index()\n",
    "x = alignment[alignment.columns[1]]\n",
    "y = alignment[alignment.columns[2]]\n",
    "x2,y2 = zip(*sorted(zip(y,x),key=lambda y: y[0]))\n",
    "\n",
    "plt.hist(y)\n",
    "plt.xlabel('Depth of Coverage')\n",
    "plt.ylabel('Count')\n",
    "plt.show()"
   ]
  },
  {
   "cell_type": "code",
   "execution_count": null,
   "metadata": {},
   "outputs": [],
   "source": []
  }
 ],
 "metadata": {
  "kernelspec": {
   "display_name": "Python 3",
   "language": "python",
   "name": "python3"
  },
  "language_info": {
   "codemirror_mode": {
    "name": "ipython",
    "version": 3
   },
   "file_extension": ".py",
   "mimetype": "text/x-python",
   "name": "python",
   "nbconvert_exporter": "python",
   "pygments_lexer": "ipython3",
   "version": "3.7.3"
  }
 },
 "nbformat": 4,
 "nbformat_minor": 2
}
